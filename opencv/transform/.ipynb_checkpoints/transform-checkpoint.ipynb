{
 "cells": [
  {
   "cell_type": "code",
   "execution_count": 14,
   "metadata": {
    "autoscroll": false,
    "collapsed": false,
    "ein.hycell": false,
    "ein.tags": "worksheet-0",
    "slideshow": {
     "slide_type": "-"
    }
   },
   "outputs": [],
   "source": [
    "import os\n",
    "import cv2\n",
    "import numpy as np\n",
    "from PIL import Image\n",
    "\n",
    "cvImage = cv2.imread(\"10.jpg\")\n",
    "rows, cols, depth = cvImage.shape\n",
    "\n",
    "M = np.matrix([[1,0,200],[0,1,200]],dtype='f')\n",
    "aff = cv2.warpAffine(cvImage,M,(cols,rows))\n",
    "cv2.imshow(\"aff\",aff)\n",
    "\n",
    "src = np.matrix([[100,50],[100,100],[200,100]],dtype='f')\n",
    "dst = np.matrix([[150,50],[150,100],[100,50]],dtype='f')\n",
    "aff1M = cv2.getAffineTransform(src,dst)\n",
    "aff1 = cv2.warpAffine(cvImage,aff1M,(cols,rows))\n",
    "cv2.imshow(\"aff1\",aff1)\n",
    "\n",
    "src = np.matrix([[100,50],[100,200],[200,200],[200,50]],dtype='f')\n",
    "dst = np.matrix([[75,75],[125,175],[175,175],[150,75]],dtype='f')\n",
    "pffM = cv2.getPerspectiveTransform(src,dst)\n",
    "pff = cv2.warpPerspective(cvImage,pffM,(cols,rows))\n",
    "cv2.imshow(\"pff\",pff)\n",
    "cv2.waitKey(0)\n",
    "cv2.destroyAllWindows()\n"
   ]
  }
 ],
 "metadata": {
  "kernelspec": {
   "display_name": "Python 3",
   "name": "python3"
  },
  "name": "transform.ipynb"
 },
 "nbformat": 4,
 "nbformat_minor": 2
}
